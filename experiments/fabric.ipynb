{
 "cells": [
  {
   "cell_type": "code",
   "execution_count": null,
   "metadata": {
    "tags": []
   },
   "outputs": [],
   "source": [
    "from fabrictestbed_extensions.fablib.fablib import FablibManager as fablib_manager\n",
    "\n",
    "fablib = fablib_manager()\n",
    "\n",
    "fablib.show_config()\n"
   ]
  },
  {
   "cell_type": "markdown",
   "metadata": {
    "tags": []
   },
   "source": [
    "## Step 3 (Optional): Query for Available Testbed Resources and Settings\n",
    "\n",
    "This optional command queries the FABRIC services to find the available resources. It may be useful for finding a site with available capacity."
   ]
  },
  {
   "cell_type": "code",
   "execution_count": null,
   "metadata": {
    "tags": []
   },
   "outputs": [],
   "source": [
    "fablib.list_sites()"
   ]
  },
  {
   "cell_type": "code",
   "execution_count": null,
   "metadata": {
    "tags": []
   },
   "outputs": [],
   "source": [
    "# Create a slice\n",
    "slice = fablib.new_slice(name=\"MySlice\")\n",
    "\n",
    "# Add a node\n",
    "node = slice.add_node(name=\"Node1\", site=\"ATLA\")\n",
    "node2 = slice.add_node(name=\"Node2\", site=\"SEAT\")\n",
    "node3 = slice.add_node(name=\"Node3\", site=\"LOSA\")\n",
    "node4 = slice.add_node(name=\"Node4\", site=\"SRI\")\n",
    "node5 = slice.add_node(name=\"Node5\", site=\"NEWY\")\n",
    "node6 = slice.add_node(name=\"Node6\", site=\"NCSA\")\n",
    "node7 = slice.add_node(name=\"Node7\", site=\"TACC\")\n",
    "\n",
    "# Submit the slice\n",
    "slice.submit()\n"
   ]
  },
  {
   "cell_type": "code",
   "execution_count": null,
   "metadata": {},
   "outputs": [],
   "source": [
    "slice = fablib.get_slice(\"MySlice\")\n",
    "slice.get_nodes()"
   ]
  },
  {
   "cell_type": "code",
   "execution_count": null,
   "metadata": {},
   "outputs": [],
   "source": [
    "slice.submit()"
   ]
  },
  {
   "cell_type": "markdown",
   "metadata": {},
   "source": [
    "## Step 5: Observe the Slice's Attributes\n",
    "\n",
    "### Show the slice attributes "
   ]
  },
  {
   "cell_type": "code",
   "execution_count": null,
   "metadata": {
    "tags": []
   },
   "outputs": [],
   "source": [
    "slice.show()"
   ]
  },
  {
   "cell_type": "markdown",
   "metadata": {
    "tags": []
   },
   "source": [
    "### List the nodes\n"
   ]
  },
  {
   "cell_type": "code",
   "execution_count": null,
   "metadata": {
    "tags": []
   },
   "outputs": [],
   "source": [
    "slice.list_nodes()"
   ]
  },
  {
   "cell_type": "code",
   "execution_count": null,
   "metadata": {},
   "outputs": [],
   "source": [
    "from ipaddress import ip_address, IPv6Address\n",
    "\n",
    "node = slice.get_node(name=\"Node1\")     \n",
    "\n",
    "# If the node is an IPv6 Node then configure NAT64\n",
    "print(ip_address(node.get_management_ip()))\n",
    "print(type(ip_address(node.get_management_ip())) is IPv6Address)\n",
    "if type(ip_address(node.get_management_ip())) is IPv6Address:\n",
    "    node.upload_file('/home/fabric/work/jupyter-examples-rel1.6.1/script.sh', 'nat64.sh')\n",
    "\n",
    "    stdout, stderr = node.execute(f'chmod +x nat64.sh && ./nat64.sh')\n",
    "\n",
    "# Access non-IPv6 Services\n",
    "stdout, stderr = node.execute(f'sudo yum install -y -q git && git clone https://github.com/fabric-testbed/jupyter-examples.git')\n",
    "\n",
    "stdout, stderr = node.execute(f'ls jupyter-examples')\n"
   ]
  },
  {
   "cell_type": "markdown",
   "metadata": {
    "tags": []
   },
   "source": [
    "## Step 7: Delete the Slice\n",
    "\n",
    "Please delete your slice when you are done with your experiment."
   ]
  },
  {
   "cell_type": "code",
   "execution_count": 19,
   "metadata": {
    "tags": []
   },
   "outputs": [],
   "source": [
    "slice.delete()"
   ]
  },
  {
   "cell_type": "markdown",
   "metadata": {},
   "source": [
    "## Connect to VM\n",
    "\n",
    "ssh -F fabric_ssh_config -i slice_key node_address\n",
    "\n",
    "scp -F ~/.ssh/fabric_ssh_config -i ~/.ssh/slice_key -r source_addr dest_addr"
   ]
  }
 ],
 "metadata": {
  "kernelspec": {
   "display_name": "Python 3 (ipykernel)",
   "language": "python",
   "name": "python3"
  },
  "language_info": {
   "codemirror_mode": {
    "name": "ipython",
    "version": 3
   },
   "file_extension": ".py",
   "mimetype": "text/x-python",
   "name": "python",
   "nbconvert_exporter": "python",
   "pygments_lexer": "ipython3",
   "version": "3.11.8"
  }
 },
 "nbformat": 4,
 "nbformat_minor": 4
}
